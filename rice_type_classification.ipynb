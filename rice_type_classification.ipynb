{
 "cells": [
  {
   "cell_type": "markdown",
   "id": "1e7d4d33",
   "metadata": {},
   "source": [
    "# Classification of rice by type with Decision Tree Classifier"
   ]
  },
  {
   "cell_type": "code",
   "execution_count": 2,
   "id": "34f34642",
   "metadata": {},
   "outputs": [],
   "source": [
    "#importing libraries\n",
    "import pandas as pd\n",
    "import numpy as np\n",
    "import matplotlib.pyplot as plt\n",
    "import seaborn as sns\n",
    "import warnings\n",
    "warnings.filterwarnings('ignore')"
   ]
  },
  {
   "cell_type": "markdown",
   "id": "82822205",
   "metadata": {},
   "source": [
    "### Reading dataset"
   ]
  },
  {
   "cell_type": "code",
   "execution_count": 3,
   "id": "4edff52d",
   "metadata": {
    "scrolled": true
   },
   "outputs": [
    {
     "data": {
      "text/html": [
       "<div>\n",
       "<style scoped>\n",
       "    .dataframe tbody tr th:only-of-type {\n",
       "        vertical-align: middle;\n",
       "    }\n",
       "\n",
       "    .dataframe tbody tr th {\n",
       "        vertical-align: top;\n",
       "    }\n",
       "\n",
       "    .dataframe thead th {\n",
       "        text-align: right;\n",
       "    }\n",
       "</style>\n",
       "<table border=\"1\" class=\"dataframe\">\n",
       "  <thead>\n",
       "    <tr style=\"text-align: right;\">\n",
       "      <th></th>\n",
       "      <th>id</th>\n",
       "      <th>Area</th>\n",
       "      <th>MajorAxisLength</th>\n",
       "      <th>MinorAxisLength</th>\n",
       "      <th>Eccentricity</th>\n",
       "      <th>ConvexArea</th>\n",
       "      <th>EquivDiameter</th>\n",
       "      <th>Extent</th>\n",
       "      <th>Perimeter</th>\n",
       "      <th>Roundness</th>\n",
       "      <th>AspectRation</th>\n",
       "      <th>Class</th>\n",
       "    </tr>\n",
       "  </thead>\n",
       "  <tbody>\n",
       "    <tr>\n",
       "      <th>0</th>\n",
       "      <td>1</td>\n",
       "      <td>4537</td>\n",
       "      <td>92.229316</td>\n",
       "      <td>64.012769</td>\n",
       "      <td>0.719916</td>\n",
       "      <td>4677</td>\n",
       "      <td>76.004525</td>\n",
       "      <td>0.657536</td>\n",
       "      <td>273.085</td>\n",
       "      <td>0.764510</td>\n",
       "      <td>1.440796</td>\n",
       "      <td>1</td>\n",
       "    </tr>\n",
       "    <tr>\n",
       "      <th>1</th>\n",
       "      <td>2</td>\n",
       "      <td>2872</td>\n",
       "      <td>74.691881</td>\n",
       "      <td>51.400454</td>\n",
       "      <td>0.725553</td>\n",
       "      <td>3015</td>\n",
       "      <td>60.471018</td>\n",
       "      <td>0.713009</td>\n",
       "      <td>208.317</td>\n",
       "      <td>0.831658</td>\n",
       "      <td>1.453137</td>\n",
       "      <td>1</td>\n",
       "    </tr>\n",
       "    <tr>\n",
       "      <th>2</th>\n",
       "      <td>3</td>\n",
       "      <td>3048</td>\n",
       "      <td>76.293164</td>\n",
       "      <td>52.043491</td>\n",
       "      <td>0.731211</td>\n",
       "      <td>3132</td>\n",
       "      <td>62.296341</td>\n",
       "      <td>0.759153</td>\n",
       "      <td>210.012</td>\n",
       "      <td>0.868434</td>\n",
       "      <td>1.465950</td>\n",
       "      <td>1</td>\n",
       "    </tr>\n",
       "    <tr>\n",
       "      <th>3</th>\n",
       "      <td>4</td>\n",
       "      <td>3073</td>\n",
       "      <td>77.033628</td>\n",
       "      <td>51.928487</td>\n",
       "      <td>0.738639</td>\n",
       "      <td>3157</td>\n",
       "      <td>62.551300</td>\n",
       "      <td>0.783529</td>\n",
       "      <td>210.657</td>\n",
       "      <td>0.870203</td>\n",
       "      <td>1.483456</td>\n",
       "      <td>1</td>\n",
       "    </tr>\n",
       "    <tr>\n",
       "      <th>4</th>\n",
       "      <td>5</td>\n",
       "      <td>3693</td>\n",
       "      <td>85.124785</td>\n",
       "      <td>56.374021</td>\n",
       "      <td>0.749282</td>\n",
       "      <td>3802</td>\n",
       "      <td>68.571668</td>\n",
       "      <td>0.769375</td>\n",
       "      <td>230.332</td>\n",
       "      <td>0.874743</td>\n",
       "      <td>1.510000</td>\n",
       "      <td>1</td>\n",
       "    </tr>\n",
       "  </tbody>\n",
       "</table>\n",
       "</div>"
      ],
      "text/plain": [
       "   id  Area  MajorAxisLength  MinorAxisLength  Eccentricity  ConvexArea  \\\n",
       "0   1  4537        92.229316        64.012769      0.719916        4677   \n",
       "1   2  2872        74.691881        51.400454      0.725553        3015   \n",
       "2   3  3048        76.293164        52.043491      0.731211        3132   \n",
       "3   4  3073        77.033628        51.928487      0.738639        3157   \n",
       "4   5  3693        85.124785        56.374021      0.749282        3802   \n",
       "\n",
       "   EquivDiameter    Extent  Perimeter  Roundness  AspectRation  Class  \n",
       "0      76.004525  0.657536    273.085   0.764510      1.440796      1  \n",
       "1      60.471018  0.713009    208.317   0.831658      1.453137      1  \n",
       "2      62.296341  0.759153    210.012   0.868434      1.465950      1  \n",
       "3      62.551300  0.783529    210.657   0.870203      1.483456      1  \n",
       "4      68.571668  0.769375    230.332   0.874743      1.510000      1  "
      ]
     },
     "execution_count": 3,
     "metadata": {},
     "output_type": "execute_result"
    }
   ],
   "source": [
    "df = pd.read_csv('data/riceClassification.csv')\n",
    "\n",
    "df.head()"
   ]
  },
  {
   "cell_type": "code",
   "execution_count": 10,
   "id": "10c35c05",
   "metadata": {},
   "outputs": [
    {
     "data": {
      "text/plain": [
       "array([1, 0], dtype=int64)"
      ]
     },
     "execution_count": 10,
     "metadata": {},
     "output_type": "execute_result"
    }
   ],
   "source": [
    "df.Class.unique()"
   ]
  },
  {
   "cell_type": "markdown",
   "id": "ae700a07",
   "metadata": {},
   "source": [
    "Jasmin - 1\n",
    "\n",
    "Gonen - 0"
   ]
  },
  {
   "cell_type": "code",
   "execution_count": 4,
   "id": "e230d676",
   "metadata": {},
   "outputs": [
    {
     "name": "stdout",
     "output_type": "stream",
     "text": [
      "<class 'pandas.core.frame.DataFrame'>\n",
      "RangeIndex: 18185 entries, 0 to 18184\n",
      "Data columns (total 12 columns):\n",
      " #   Column           Non-Null Count  Dtype  \n",
      "---  ------           --------------  -----  \n",
      " 0   id               18185 non-null  int64  \n",
      " 1   Area             18185 non-null  int64  \n",
      " 2   MajorAxisLength  18185 non-null  float64\n",
      " 3   MinorAxisLength  18185 non-null  float64\n",
      " 4   Eccentricity     18185 non-null  float64\n",
      " 5   ConvexArea       18185 non-null  int64  \n",
      " 6   EquivDiameter    18185 non-null  float64\n",
      " 7   Extent           18185 non-null  float64\n",
      " 8   Perimeter        18185 non-null  float64\n",
      " 9   Roundness        18185 non-null  float64\n",
      " 10  AspectRation     18185 non-null  float64\n",
      " 11  Class            18185 non-null  int64  \n",
      "dtypes: float64(8), int64(4)\n",
      "memory usage: 1.7 MB\n"
     ]
    }
   ],
   "source": [
    "df.info()"
   ]
  },
  {
   "cell_type": "code",
   "execution_count": 6,
   "id": "3b576df5",
   "metadata": {},
   "outputs": [
    {
     "data": {
      "text/plain": [
       "(18185, 12)"
      ]
     },
     "execution_count": 6,
     "metadata": {},
     "output_type": "execute_result"
    }
   ],
   "source": [
    "df.shape"
   ]
  },
  {
   "cell_type": "markdown",
   "id": "a1a5e12b",
   "metadata": {},
   "source": [
    "### EDA"
   ]
  },
  {
   "cell_type": "code",
   "execution_count": 7,
   "id": "a39d5bf8",
   "metadata": {},
   "outputs": [
    {
     "data": {
      "text/html": [
       "<div>\n",
       "<style scoped>\n",
       "    .dataframe tbody tr th:only-of-type {\n",
       "        vertical-align: middle;\n",
       "    }\n",
       "\n",
       "    .dataframe tbody tr th {\n",
       "        vertical-align: top;\n",
       "    }\n",
       "\n",
       "    .dataframe thead th {\n",
       "        text-align: right;\n",
       "    }\n",
       "</style>\n",
       "<table border=\"1\" class=\"dataframe\">\n",
       "  <thead>\n",
       "    <tr style=\"text-align: right;\">\n",
       "      <th></th>\n",
       "      <th>count</th>\n",
       "      <th>mean</th>\n",
       "      <th>std</th>\n",
       "      <th>min</th>\n",
       "      <th>25%</th>\n",
       "      <th>50%</th>\n",
       "      <th>75%</th>\n",
       "      <th>max</th>\n",
       "    </tr>\n",
       "  </thead>\n",
       "  <tbody>\n",
       "    <tr>\n",
       "      <th>id</th>\n",
       "      <td>18185.0</td>\n",
       "      <td>9093.000000</td>\n",
       "      <td>5249.701658</td>\n",
       "      <td>1.000000</td>\n",
       "      <td>4547.000000</td>\n",
       "      <td>9093.000000</td>\n",
       "      <td>13639.000000</td>\n",
       "      <td>18185.000000</td>\n",
       "    </tr>\n",
       "    <tr>\n",
       "      <th>Area</th>\n",
       "      <td>18185.0</td>\n",
       "      <td>7036.492989</td>\n",
       "      <td>1467.197150</td>\n",
       "      <td>2522.000000</td>\n",
       "      <td>5962.000000</td>\n",
       "      <td>6660.000000</td>\n",
       "      <td>8423.000000</td>\n",
       "      <td>10210.000000</td>\n",
       "    </tr>\n",
       "    <tr>\n",
       "      <th>MajorAxisLength</th>\n",
       "      <td>18185.0</td>\n",
       "      <td>151.680754</td>\n",
       "      <td>12.376402</td>\n",
       "      <td>74.133114</td>\n",
       "      <td>145.675910</td>\n",
       "      <td>153.883750</td>\n",
       "      <td>160.056214</td>\n",
       "      <td>183.211434</td>\n",
       "    </tr>\n",
       "    <tr>\n",
       "      <th>MinorAxisLength</th>\n",
       "      <td>18185.0</td>\n",
       "      <td>59.807851</td>\n",
       "      <td>10.061653</td>\n",
       "      <td>34.409894</td>\n",
       "      <td>51.393151</td>\n",
       "      <td>55.724288</td>\n",
       "      <td>70.156593</td>\n",
       "      <td>82.550762</td>\n",
       "    </tr>\n",
       "    <tr>\n",
       "      <th>Eccentricity</th>\n",
       "      <td>18185.0</td>\n",
       "      <td>0.915406</td>\n",
       "      <td>0.030575</td>\n",
       "      <td>0.676647</td>\n",
       "      <td>0.891617</td>\n",
       "      <td>0.923259</td>\n",
       "      <td>0.941372</td>\n",
       "      <td>0.966774</td>\n",
       "    </tr>\n",
       "    <tr>\n",
       "      <th>ConvexArea</th>\n",
       "      <td>18185.0</td>\n",
       "      <td>7225.817872</td>\n",
       "      <td>1502.006571</td>\n",
       "      <td>2579.000000</td>\n",
       "      <td>6125.000000</td>\n",
       "      <td>6843.000000</td>\n",
       "      <td>8645.000000</td>\n",
       "      <td>11008.000000</td>\n",
       "    </tr>\n",
       "    <tr>\n",
       "      <th>EquivDiameter</th>\n",
       "      <td>18185.0</td>\n",
       "      <td>94.132952</td>\n",
       "      <td>9.906250</td>\n",
       "      <td>56.666658</td>\n",
       "      <td>87.126656</td>\n",
       "      <td>92.085696</td>\n",
       "      <td>103.559146</td>\n",
       "      <td>114.016559</td>\n",
       "    </tr>\n",
       "    <tr>\n",
       "      <th>Extent</th>\n",
       "      <td>18185.0</td>\n",
       "      <td>0.616653</td>\n",
       "      <td>0.104389</td>\n",
       "      <td>0.383239</td>\n",
       "      <td>0.538530</td>\n",
       "      <td>0.601194</td>\n",
       "      <td>0.695664</td>\n",
       "      <td>0.886573</td>\n",
       "    </tr>\n",
       "    <tr>\n",
       "      <th>Perimeter</th>\n",
       "      <td>18185.0</td>\n",
       "      <td>351.606949</td>\n",
       "      <td>29.500620</td>\n",
       "      <td>197.015000</td>\n",
       "      <td>333.990000</td>\n",
       "      <td>353.088000</td>\n",
       "      <td>373.003000</td>\n",
       "      <td>508.511000</td>\n",
       "    </tr>\n",
       "    <tr>\n",
       "      <th>Roundness</th>\n",
       "      <td>18185.0</td>\n",
       "      <td>0.707998</td>\n",
       "      <td>0.067310</td>\n",
       "      <td>0.174590</td>\n",
       "      <td>0.650962</td>\n",
       "      <td>0.701941</td>\n",
       "      <td>0.769280</td>\n",
       "      <td>0.904748</td>\n",
       "    </tr>\n",
       "    <tr>\n",
       "      <th>AspectRation</th>\n",
       "      <td>18185.0</td>\n",
       "      <td>2.599081</td>\n",
       "      <td>0.434836</td>\n",
       "      <td>1.358128</td>\n",
       "      <td>2.208527</td>\n",
       "      <td>2.602966</td>\n",
       "      <td>2.964101</td>\n",
       "      <td>3.911845</td>\n",
       "    </tr>\n",
       "    <tr>\n",
       "      <th>Class</th>\n",
       "      <td>18185.0</td>\n",
       "      <td>0.549079</td>\n",
       "      <td>0.497599</td>\n",
       "      <td>0.000000</td>\n",
       "      <td>0.000000</td>\n",
       "      <td>1.000000</td>\n",
       "      <td>1.000000</td>\n",
       "      <td>1.000000</td>\n",
       "    </tr>\n",
       "  </tbody>\n",
       "</table>\n",
       "</div>"
      ],
      "text/plain": [
       "                   count         mean          std          min          25%  \\\n",
       "id               18185.0  9093.000000  5249.701658     1.000000  4547.000000   \n",
       "Area             18185.0  7036.492989  1467.197150  2522.000000  5962.000000   \n",
       "MajorAxisLength  18185.0   151.680754    12.376402    74.133114   145.675910   \n",
       "MinorAxisLength  18185.0    59.807851    10.061653    34.409894    51.393151   \n",
       "Eccentricity     18185.0     0.915406     0.030575     0.676647     0.891617   \n",
       "ConvexArea       18185.0  7225.817872  1502.006571  2579.000000  6125.000000   \n",
       "EquivDiameter    18185.0    94.132952     9.906250    56.666658    87.126656   \n",
       "Extent           18185.0     0.616653     0.104389     0.383239     0.538530   \n",
       "Perimeter        18185.0   351.606949    29.500620   197.015000   333.990000   \n",
       "Roundness        18185.0     0.707998     0.067310     0.174590     0.650962   \n",
       "AspectRation     18185.0     2.599081     0.434836     1.358128     2.208527   \n",
       "Class            18185.0     0.549079     0.497599     0.000000     0.000000   \n",
       "\n",
       "                         50%           75%           max  \n",
       "id               9093.000000  13639.000000  18185.000000  \n",
       "Area             6660.000000   8423.000000  10210.000000  \n",
       "MajorAxisLength   153.883750    160.056214    183.211434  \n",
       "MinorAxisLength    55.724288     70.156593     82.550762  \n",
       "Eccentricity        0.923259      0.941372      0.966774  \n",
       "ConvexArea       6843.000000   8645.000000  11008.000000  \n",
       "EquivDiameter      92.085696    103.559146    114.016559  \n",
       "Extent              0.601194      0.695664      0.886573  \n",
       "Perimeter         353.088000    373.003000    508.511000  \n",
       "Roundness           0.701941      0.769280      0.904748  \n",
       "AspectRation        2.602966      2.964101      3.911845  \n",
       "Class               1.000000      1.000000      1.000000  "
      ]
     },
     "execution_count": 7,
     "metadata": {},
     "output_type": "execute_result"
    }
   ],
   "source": [
    "df.describe().T"
   ]
  },
  {
   "cell_type": "code",
   "execution_count": 15,
   "id": "21fa9372",
   "metadata": {},
   "outputs": [
    {
     "data": {
      "text/plain": [
       "<AxesSubplot: xlabel='Class', ylabel='count'>"
      ]
     },
     "execution_count": 15,
     "metadata": {},
     "output_type": "execute_result"
    },
    {
     "data": {
      "image/png": "[encoded data removed]",
      "text/plain": [
       "<Figure size 640x480 with 1 Axes>"
      ]
     },
     "metadata": {},
     "output_type": "display_data"
    }
   ],
   "source": [
    "sns.countplot(x='Class', data=df)"
   ]
  }
 ],
 "metadata": {
  "kernelspec": {
   "display_name": "env",
   "language": "python",
   "name": "env"
  },
  "language_info": {
   "codemirror_mode": {
    "name": "ipython",
    "version": 3
   },
   "file_extension": ".py",
   "mimetype": "text/x-python",
   "name": "python",
   "nbconvert_exporter": "python",
   "pygments_lexer": "ipython3",
   "version": "3.10.7"
  }
 },
 "nbformat": 4,
 "nbformat_minor": 5
}
